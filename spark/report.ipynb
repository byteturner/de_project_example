{
 "cells": [
  {
   "cell_type": "code",
   "execution_count": 1,
   "id": "e8fbbfd8",
   "metadata": {},
   "outputs": [],
   "source": [
    "import pyspark\n",
    "from pyspark.sql import SparkSession, types\n",
    "from pyspark.sql import functions as F"
   ]
  },
  {
   "cell_type": "code",
   "execution_count": 2,
   "id": "cbeeba36",
   "metadata": {},
   "outputs": [
    {
     "name": "stdout",
     "output_type": "stream",
     "text": [
      "/Users/dmytriyt/Desktop: Scheme missing.\n",
      "--2024-01-04 11:14:42--  https://d37ci6vzurychx.cloudfront.net/trip-data/fhvhv_tripdata_2023-01.parquet\n",
      "Resolving d37ci6vzurychx.cloudfront.net (d37ci6vzurychx.cloudfront.net)... 18.244.96.180, 18.244.96.103, 18.244.96.218, ...\n",
      "Connecting to d37ci6vzurychx.cloudfront.net (d37ci6vzurychx.cloudfront.net)|18.244.96.180|:443... connected.\n",
      "HTTP request sent, awaiting response... 200 OK\n",
      "Length: 473816636 (452M) [application/x-www-form-urlencoded]\n",
      "Saving to: 'fhvhv_tripdata_2023-01.parquet'\n",
      "\n",
      "fhvhv_tripdata_2023 100%[===================>] 451.87M  50.6MB/s    in 8.7s    \n",
      "\n",
      "2024-01-04 11:14:51 (51.7 MB/s) - 'fhvhv_tripdata_2023-01.parquet' saved [473816636/473816636]\n",
      "\n",
      "FINISHED --2024-01-04 11:14:51--\n",
      "Total wall clock time: 8.9s\n",
      "Downloaded: 1 files, 452M in 8.7s (51.7 MB/s)\n"
     ]
    }
   ],
   "source": [
    "#!wget https://d37ci6vzurychx.cloudfront.net/trip-data/fhvhv_tripdata_2023-01.parquet"
   ]
  },
  {
   "cell_type": "code",
   "execution_count": 3,
   "id": "b815be77",
   "metadata": {},
   "outputs": [
    {
     "name": "stderr",
     "output_type": "stream",
     "text": [
      "Setting default log level to \"WARN\".\n",
      "To adjust logging level use sc.setLogLevel(newLevel). For SparkR, use setLogLevel(newLevel).\n",
      "24/01/04 11:15:26 WARN NativeCodeLoader: Unable to load native-hadoop library for your platform... using builtin-java classes where applicable\n",
      "24/01/04 11:15:43 WARN GarbageCollectionMetrics: To enable non-built-in garbage collector(s) List(G1 Concurrent GC), users should configure it(them) to spark.eventLog.gcMetrics.youngGenerationGarbageCollectors or spark.eventLog.gcMetrics.oldGenerationGarbageCollectors\n"
     ]
    }
   ],
   "source": [
    "spark = SparkSession.builder \\\n",
    "    .master(\"local[*]\") \\\n",
    "    .appName('test') \\\n",
    "    .getOrCreate()"
   ]
  },
  {
   "cell_type": "code",
   "execution_count": 31,
   "id": "86c91d86",
   "metadata": {},
   "outputs": [],
   "source": [
    "df = spark.read \\\n",
    "    .parquet('fhvhv_tripdata_2023-01.parquet')"
   ]
  },
  {
   "cell_type": "code",
   "execution_count": 32,
   "id": "c5b0ef3a",
   "metadata": {},
   "outputs": [],
   "source": [
    "license_names = {\n",
    "    'HV0002': 'Juno',\n",
    "    'HV0003': 'Uber',\n",
    "    'HV0004': 'Via',\n",
    "    'HV0005': 'Lyft',\n",
    "}\n",
    "\n",
    "def license_name(num_string):\n",
    "    if num_string in license_names:\n",
    "        return license_names[num_string]\n",
    "    else:\n",
    "        return 'Unknown'\n",
    "\n",
    "license_name_udf = F.udf(license_name, returnType=types.StringType())"
   ]
  },
  {
   "cell_type": "code",
   "execution_count": 33,
   "id": "65c0cc5d",
   "metadata": {},
   "outputs": [],
   "source": [
    "df_clean = df \\\n",
    "    .withColumn('license_name', license_name_udf(df.hvfhs_license_num)) \\\n",
    "    .select(\n",
    "        'pickup_datetime', 'hvfhs_license_num', 'license_name',\n",
    "        'trip_miles', 'trip_time', 'base_passenger_fare', 'tolls',\n",
    "        'bcf', 'sales_tax', 'congestion_surcharge', 'airport_fee', 'tips', 'driver_pay'\n",
    "    )"
   ]
  },
  {
   "cell_type": "code",
   "execution_count": 34,
   "id": "fd1fd97a",
   "metadata": {},
   "outputs": [
    {
     "data": {
      "text/plain": [
       "DataFrame[pickup_datetime: timestamp_ntz, hvfhs_license_num: string, license_name: string, trip_miles: double, trip_time: bigint, base_passenger_fare: double, tolls: double, bcf: double, sales_tax: double, congestion_surcharge: double, airport_fee: double, tips: double, driver_pay: double]"
      ]
     },
     "execution_count": 34,
     "metadata": {},
     "output_type": "execute_result"
    }
   ],
   "source": [
    "df_clean.repartition('hvfhs_license_num')"
   ]
  },
  {
   "cell_type": "code",
   "execution_count": 35,
   "id": "3617bad7",
   "metadata": {},
   "outputs": [
    {
     "name": "stderr",
     "output_type": "stream",
     "text": [
      "/usr/local/Cellar/apache-spark/3.5.0/libexec/python/pyspark/sql/dataframe.py:329: FutureWarning: Deprecated in 2.0, use createOrReplaceTempView instead.\n",
      "  warnings.warn(\"Deprecated in 2.0, use createOrReplaceTempView instead.\", FutureWarning)\n"
     ]
    }
   ],
   "source": [
    "df_clean.registerTempTable('fhvhv_tripdata')"
   ]
  },
  {
   "cell_type": "code",
   "execution_count": 36,
   "id": "3e665793",
   "metadata": {},
   "outputs": [],
   "source": [
    "report = spark.sql(\"\"\"\n",
    "SELECT\n",
    "    date_trunc('day', pickup_datetime) trip_day\n",
    "    ,license_name\n",
    "    ,sum(trip_miles) total_miles\n",
    "    ,avg(trip_miles) avg_miles_a_day\n",
    "    ,sum(base_passenger_fare) total_base_fare\n",
    "    ,sum(tolls) total_tolls\n",
    "    ,sum(bcf) total_bcf\n",
    "    ,sum(congestion_surcharge) total_congestion_surcharge\n",
    "    ,sum(airport_fee) airport_fee\n",
    "    ,sum(tips) total_tips\n",
    "FROM fhvhv_tripdata \n",
    "GROUP BY 1,2\n",
    "ORDER BY 1,2\n",
    "LIMIT 100\n",
    "\"\"\")"
   ]
  },
  {
   "cell_type": "code",
   "execution_count": 37,
   "id": "4d3457d4",
   "metadata": {},
   "outputs": [
    {
     "name": "stderr",
     "output_type": "stream",
     "text": [
      "                                                                                \r"
     ]
    }
   ],
   "source": [
    "report.write \\\n",
    "    .mode(\"overwrite\") \\\n",
    "    .csv('report/', )"
   ]
  },
  {
   "cell_type": "code",
   "execution_count": null,
   "id": "2850558b",
   "metadata": {},
   "outputs": [],
   "source": []
  }
 ],
 "metadata": {
  "kernelspec": {
   "display_name": "Python 3 (ipykernel)",
   "language": "python",
   "name": "python3"
  },
  "language_info": {
   "codemirror_mode": {
    "name": "ipython",
    "version": 3
   },
   "file_extension": ".py",
   "mimetype": "text/x-python",
   "name": "python",
   "nbconvert_exporter": "python",
   "pygments_lexer": "ipython3",
   "version": "3.9.12"
  }
 },
 "nbformat": 4,
 "nbformat_minor": 5
}
